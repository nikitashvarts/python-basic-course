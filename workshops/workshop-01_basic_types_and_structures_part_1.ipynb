{
 "cells": [
  {
   "cell_type": "markdown",
   "id": "5c258e2b",
   "metadata": {},
   "source": [
    "# Workshop 1: Базовые типы и структуры. Часть 1"
   ]
  },
  {
   "cell_type": "markdown",
   "id": "46e98e1c",
   "metadata": {},
   "source": [
    "## 1. Условный оператор `if-else`, циклы `for` и `while`"
   ]
  },
  {
   "cell_type": "markdown",
   "id": "a695bf38",
   "metadata": {},
   "source": [
    "#### 1.1. Запросить число `n` от пользователя и вычислить сумму всех чисел от 1 до `n`, включая `n`."
   ]
  },
  {
   "cell_type": "code",
   "execution_count": 1,
   "id": "5df6cb33",
   "metadata": {},
   "outputs": [
    {
     "name": "stdout",
     "output_type": "stream",
     "text": [
      "sum = 55\n"
     ]
    }
   ],
   "source": [
    "n = 10 # int(input('Enter a number: '))\n",
    "\n",
    "print('sum = {}'.format(sum(range(n + 1))))"
   ]
  },
  {
   "cell_type": "markdown",
   "id": "5835ac87",
   "metadata": {},
   "source": [
    "#### 1.2. Отобразить числа от -10 до -1, используя цикл `for`."
   ]
  },
  {
   "cell_type": "code",
   "execution_count": 2,
   "id": "2970679f",
   "metadata": {},
   "outputs": [
    {
     "name": "stdout",
     "output_type": "stream",
     "text": [
      "-10\n",
      "-9\n",
      "-8\n",
      "-7\n",
      "-6\n",
      "-5\n",
      "-4\n",
      "-3\n",
      "-2\n",
      "-1\n"
     ]
    }
   ],
   "source": [
    "for i in range(-10, 0):\n",
    "    print(i)"
   ]
  },
  {
   "cell_type": "markdown",
   "id": "075cc101",
   "metadata": {},
   "source": [
    "#### 1.3. Получив на вход список, итеративно пройти по нему и вывести числа, которые делятся на 5. Если в процессе итераций встретится число, большее 120, остановить цикл."
   ]
  },
  {
   "cell_type": "code",
   "execution_count": 3,
   "id": "06165d24",
   "metadata": {},
   "outputs": [
    {
     "name": "stdout",
     "output_type": "stream",
     "text": [
      "5\n",
      "25\n",
      "90\n"
     ]
    }
   ],
   "source": [
    "List = '1 5 19 83 25 90 132 180 36 20' # input('Enter a list of numbers: ')\n",
    "List = list(map(int, List.split()))\n",
    "\n",
    "for number in List:\n",
    "    if number > 120:\n",
    "        break\n",
    "    else:\n",
    "        if number % 5 == 0:\n",
    "            print(number)"
   ]
  },
  {
   "cell_type": "markdown",
   "id": "6d459f21",
   "metadata": {},
   "source": [
    "#### 1.4. Вывести в консоль следующий паттерн:\n",
    "```\n",
    "5 4 3 2 1\n",
    "4 3 2 1\n",
    "3 2 1\n",
    "2 1\n",
    "1\n",
    "```"
   ]
  },
  {
   "cell_type": "code",
   "execution_count": 4,
   "id": "8cc5516a",
   "metadata": {},
   "outputs": [
    {
     "name": "stdout",
     "output_type": "stream",
     "text": [
      "5 4 3 2 1\n",
      "4 3 2 1\n",
      "3 2 1\n",
      "2 1\n",
      "1\n"
     ]
    }
   ],
   "source": [
    "for i in range(5, 0, -1):\n",
    "    print(*list(range(i, 0, -1)))"
   ]
  },
  {
   "cell_type": "markdown",
   "id": "f96046bb",
   "metadata": {},
   "source": [
    "#### 1.5. Получив на вход целочисленное число (`int`), определить общее число цифр в нем."
   ]
  },
  {
   "cell_type": "code",
   "execution_count": 5,
   "id": "b31c6a36",
   "metadata": {},
   "outputs": [
    {
     "name": "stdout",
     "output_type": "stream",
     "text": [
      "5\n"
     ]
    }
   ],
   "source": [
    "n = 46894 # int(input('Enter integer number: '))\n",
    "k = 0\n",
    "\n",
    "while n != 0:\n",
    "    n //= 10\n",
    "    k += 1\n",
    "\n",
    "print(k)"
   ]
  },
  {
   "cell_type": "markdown",
   "id": "1d5230ab",
   "metadata": {},
   "source": [
    "#### 1.6. Получив на вход список (`list`), обратить его с помощью цикла `for`"
   ]
  },
  {
   "cell_type": "code",
   "execution_count": 6,
   "id": "42f1f62f",
   "metadata": {},
   "outputs": [
    {
     "name": "stdout",
     "output_type": "stream",
     "text": [
      "[15, 14, 13, 12, 11, 10, 9, 8, 7, 6, 5, 4, 3, 2, 1]\n"
     ]
    }
   ],
   "source": [
    "List = '1 2 3 4 5 6 7 8 9 10 11 12 13 14 15' # input('Enter a list of numbers: ')\n",
    "List = list(map(int, List.split()))\n",
    "\n",
    "for i in range(len(List) // 2):\n",
    "    List[i], List[-i - 1] = List[-i - 1], List[i]\n",
    "\n",
    "print(List)"
   ]
  },
  {
   "cell_type": "markdown",
   "id": "9c249bbe",
   "metadata": {},
   "source": [
    "#### 1.7. Написать произвольный цикл, содержащий условие внтури, и вывести сообщение \"Done\" в случае, если условие ни разу не выполнилось. NOTE: не используя дополнительные переменные."
   ]
  },
  {
   "cell_type": "code",
   "execution_count": 7,
   "id": "e6db7d8d",
   "metadata": {},
   "outputs": [
    {
     "name": "stdout",
     "output_type": "stream",
     "text": [
      "[94, 85, 14, 77, 16]\n"
     ]
    }
   ],
   "source": [
    "from random import randint\n",
    "\n",
    "List = [randint(0, 100) for i in range(5)]\n",
    "print(List)\n",
    "\n",
    "for i in List:\n",
    "    if i % 5 == 0:\n",
    "        break\n",
    "else:\n",
    "    print('Done')"
   ]
  },
  {
   "cell_type": "markdown",
   "id": "49141bf4",
   "metadata": {},
   "source": [
    "## 2. Функции, аргументы функций, встроенные функции"
   ]
  },
  {
   "cell_type": "markdown",
   "id": "da923fbf",
   "metadata": {},
   "source": [
    "#### 2.1. Напишите функцию `calculation()` таким образом, чтобы она могла принимать две переменные и вычислять их сложение и вычитание. А также она должна возвращать как сложение, так и вычитание за один вызов."
   ]
  },
  {
   "cell_type": "code",
   "execution_count": 8,
   "id": "12865084",
   "metadata": {},
   "outputs": [
    {
     "name": "stdout",
     "output_type": "stream",
     "text": [
      "90 + -59 = 31\n",
      "90 - -59 = 149\n"
     ]
    },
    {
     "data": {
      "text/plain": [
       "(31, 149)"
      ]
     },
     "execution_count": 8,
     "metadata": {},
     "output_type": "execute_result"
    }
   ],
   "source": [
    "def calculation(a, b):\n",
    "    print('{} + {} = {}'.format(a, b, a + b))\n",
    "    print('{} - {} = {}'.format(a, b, a - b))\n",
    "    return a + b, a - b\n",
    "\n",
    "calculation(randint(-100, 100), randint(-100, 100))"
   ]
  },
  {
   "cell_type": "markdown",
   "id": "b3aad320",
   "metadata": {},
   "source": [
    "#### 2.2. Напишите функцию `showEmployee()` таким образом, чтобы она принимала имя сотрудника и его зарплату и отображала и то, и другое. А если зарплата отсутствует при вызове функции, функция должна отображать ее равную 9000."
   ]
  },
  {
   "cell_type": "code",
   "execution_count": 9,
   "id": "1985780b",
   "metadata": {},
   "outputs": [
    {
     "name": "stdout",
     "output_type": "stream",
     "text": [
      "Employee: Zyvddddo\n",
      "Salary: 43000\n",
      "\n",
      "Employee: Xtrdegclhle\n",
      "Salary: 9000\n",
      "\n"
     ]
    }
   ],
   "source": [
    "def showEmployee(employee, salary = 9000):\n",
    "    print('Employee: {}\\nSalary: {}\\n'.format(employee, salary))\n",
    "\n",
    "showEmployee('{}'.format(chr(randint(65, 90))) + ''.join([chr(i) for i in [randint(97, 122) for j in range(randint(3, 10))]]), randint(8, 50) * 1000)\n",
    "showEmployee('{}'.format(chr(randint(65, 90))) + ''.join([chr(i) for i in [randint(97, 122) for j in range(randint(3, 10))]]))"
   ]
  },
  {
   "cell_type": "markdown",
   "id": "19197ff0",
   "metadata": {},
   "source": [
    "#### 2.3. Напишите рекурсивную функцию для вычисления чисел от 0 до 10."
   ]
  },
  {
   "cell_type": "code",
   "execution_count": 10,
   "id": "792607dd",
   "metadata": {},
   "outputs": [
    {
     "name": "stdout",
     "output_type": "stream",
     "text": [
      "55\n"
     ]
    }
   ],
   "source": [
    "def f(a):\n",
    "    if a == 0:\n",
    "        return a\n",
    "    else:\n",
    "        return a + f(a - 1)\n",
    "\n",
    "print(f(10))"
   ]
  },
  {
   "cell_type": "markdown",
   "id": "36080579",
   "metadata": {},
   "source": [
    "#### 2.4. Напишите функцию таким образом, чтобы она могла принимать переменное количество аргументов и выводить значение всех этих аргументов."
   ]
  },
  {
   "cell_type": "code",
   "execution_count": 11,
   "id": "e914b52b",
   "metadata": {},
   "outputs": [
    {
     "name": "stdout",
     "output_type": "stream",
     "text": [
      "1 2 \n",
      "1 2 3 aaa \n",
      "zxcv \n"
     ]
    }
   ],
   "source": [
    "def f(*args):\n",
    "    for i in args:\n",
    "        print(i, end=' ')\n",
    "    print()\n",
    "\n",
    "f(1, 2)\n",
    "f(1, 2, 3, 'aaa')\n",
    "f('zxcv')"
   ]
  },
  {
   "cell_type": "markdown",
   "id": "75b4d257",
   "metadata": {},
   "source": [
    "#### 2.5. Напишите произвольную функцию, после этого присвойте ей другое имя, а затем вызовите ее с помощью нового имени."
   ]
  },
  {
   "cell_type": "code",
   "execution_count": 12,
   "id": "64f882f3",
   "metadata": {},
   "outputs": [
    {
     "data": {
      "text/plain": [
       "2432902008176640000"
      ]
     },
     "execution_count": 12,
     "metadata": {},
     "output_type": "execute_result"
    }
   ],
   "source": [
    "def f(n):\n",
    "    if n == 1:\n",
    "        return n\n",
    "    else:\n",
    "        return n * f(n - 1)\n",
    "\n",
    "g = f\n",
    "\n",
    "g(20)"
   ]
  },
  {
   "cell_type": "markdown",
   "id": "a6a9ec34",
   "metadata": {},
   "source": [
    "#### 2.6. Сгенерируйте список всех четных чисел от 4 до 40."
   ]
  },
  {
   "cell_type": "code",
   "execution_count": 13,
   "id": "9b3e0a72",
   "metadata": {},
   "outputs": [
    {
     "data": {
      "text/plain": [
       "[4, 6, 8, 10, 12, 14, 16, 18, 20, 22, 24, 26, 28, 30, 32, 34, 36, 38, 40]"
      ]
     },
     "execution_count": 13,
     "metadata": {},
     "output_type": "execute_result"
    }
   ],
   "source": [
    "[i for i in range(4, 41) if i % 2 == 0]"
   ]
  },
  {
   "cell_type": "markdown",
   "id": "514a3c3d",
   "metadata": {},
   "source": [
    "#### 2.7. Вернуть наибольший элемент из произвольного списка"
   ]
  },
  {
   "cell_type": "code",
   "execution_count": 14,
   "id": "a9a0c263",
   "metadata": {},
   "outputs": [
    {
     "name": "stdout",
     "output_type": "stream",
     "text": [
      "[749, 505, 28, 663, 1000, 130, 9, 181, 371, 881]\n"
     ]
    },
    {
     "data": {
      "text/plain": [
       "1000"
      ]
     },
     "execution_count": 14,
     "metadata": {},
     "output_type": "execute_result"
    }
   ],
   "source": [
    "l = [randint(0, 1000) for i in range(10)]\n",
    "print(l)\n",
    "max(l)"
   ]
  },
  {
   "cell_type": "markdown",
   "id": "e4227158",
   "metadata": {},
   "source": [
    "## 3. Строки и операции над ними"
   ]
  },
  {
   "cell_type": "markdown",
   "id": "4b35ffba",
   "metadata": {},
   "source": [
    "#### 3.1. Получив на вход строку нечетной длины, вернуть строку, состоящую из трех стредних символов этой строки."
   ]
  },
  {
   "cell_type": "code",
   "execution_count": 15,
   "id": "7d46fc37",
   "metadata": {},
   "outputs": [
    {
     "name": "stdout",
     "output_type": "stream",
     "text": [
      ";sg\n"
     ]
    }
   ],
   "source": [
    "def f(string):\n",
    "    return string[len(string)//2 - 1 : len(string)//2 + 2]\n",
    "\n",
    "print(f('ajsdf;sgrerty'))"
   ]
  },
  {
   "cell_type": "markdown",
   "id": "92f1c30c",
   "metadata": {},
   "source": [
    "#### 3.2. Получив на вход 2 строки `s1` и `s2`, создать новую строку, добавив `s2` в середину `s1`."
   ]
  },
  {
   "cell_type": "code",
   "execution_count": 16,
   "id": "fa368156",
   "metadata": {},
   "outputs": [
    {
     "name": "stdout",
     "output_type": "stream",
     "text": [
      "heworldllo\n"
     ]
    }
   ],
   "source": [
    "s1 = 'hello'\n",
    "s2 = 'world'\n",
    "\n",
    "s3 = s1[:len(s1)//2] + s2 + s1[len(s1)//2:]\n",
    "print(s3)"
   ]
  },
  {
   "cell_type": "markdown",
   "id": "fdfe7136",
   "metadata": {},
   "source": [
    "#### 3.3. Расположить строковые символы в произвольной строке таким образом, чтобы строчные буквы были первыми."
   ]
  },
  {
   "cell_type": "code",
   "execution_count": 17,
   "id": "6f274712",
   "metadata": {},
   "outputs": [
    {
     "name": "stdout",
     "output_type": "stream",
     "text": [
      "elloorldH W\n"
     ]
    }
   ],
   "source": [
    "s = 'Hello World'\n",
    "s1 = ''\n",
    "s2 = ''\n",
    "\n",
    "for i in s:\n",
    "    if 'a' <= i <= 'z':\n",
    "        s1 = s1 + i\n",
    "    else:\n",
    "        s2 = s2 + i\n",
    "\n",
    "s = s1 + s2\n",
    "print(s)"
   ]
  },
  {
   "cell_type": "markdown",
   "id": "7238f24d",
   "metadata": {},
   "source": [
    "#### 3.4. Получив на вход строку, посчитать количество строчных и заглавных букв, цифр и специальных символов."
   ]
  },
  {
   "cell_type": "code",
   "execution_count": 18,
   "id": "a581f214",
   "metadata": {},
   "outputs": [
    {
     "name": "stdout",
     "output_type": "stream",
     "text": [
      "Capital letters: 5\n",
      "Lowercase letters: 5\n",
      "Numbers: 3\n",
      "Special characters: 2\n"
     ]
    }
   ],
   "source": [
    "s = 'X5@yzE*80uWLoZu'\n",
    "\n",
    "capitalLetters = 0\n",
    "lowercaseLetters = 0\n",
    "numbers = 0\n",
    "specialCharacters = 0\n",
    "\n",
    "for i in s:\n",
    "    if 'A' <= i <= 'Z':\n",
    "        capitalLetters += 1\n",
    "    elif 'a' <= i <= 'z':\n",
    "        lowercaseLetters += 1\n",
    "    elif '0' <= i <= '9':\n",
    "        numbers += 1\n",
    "    else:\n",
    "        specialCharacters += 1\n",
    "\n",
    "print('Capital letters: {}\\nLowercase letters: {}\\nNumbers: {}\\nSpecial characters: {}'.format(capitalLetters, lowercaseLetters, numbers, specialCharacters))"
   ]
  },
  {
   "cell_type": "markdown",
   "id": "9791e5e7",
   "metadata": {},
   "source": [
    "#### 3.5. Найдите все вхождения слова \"Python\" в заданной строке, игнорируя регистр."
   ]
  },
  {
   "cell_type": "code",
   "execution_count": 19,
   "id": "77351b7e",
   "metadata": {},
   "outputs": [
    {
     "name": "stdout",
     "output_type": "stream",
     "text": [
      "2\n"
     ]
    }
   ],
   "source": [
    "s = 'X5@pyTHonyzE*80uPytHOnWLoZu'\n",
    "count = 0\n",
    "\n",
    "for i in range(len(s)):\n",
    "    if s[i:i+6].lower() == 'python':\n",
    "        count += 1\n",
    "\n",
    "print(count)"
   ]
  },
  {
   "cell_type": "markdown",
   "id": "96f1aae1",
   "metadata": {},
   "source": [
    "#### 3.6. Получив на вход строку, состоящую из букв и цифр, вернуть сумму и среднее значение чисел, которые повляются в ней, игнорируя все остальные символы."
   ]
  },
  {
   "cell_type": "code",
   "execution_count": 20,
   "id": "44f2df97",
   "metadata": {},
   "outputs": [
    {
     "name": "stdout",
     "output_type": "stream",
     "text": [
      "sum: 55\n",
      "average: 9.166666666666666\n"
     ]
    }
   ],
   "source": [
    "s = 'up38Y7w1r*5b0|UT@04D#}'\n",
    "\n",
    "integers = []\n",
    "i = 0\n",
    " \n",
    "while i < len(s):\n",
    "    s_int = ''\n",
    "    while i < len(s) and '0' <= s[i] <= '9':\n",
    "        s_int += s[i]\n",
    "        i += 1\n",
    "    i += 1\n",
    "    if s_int != '':\n",
    "        integers.append(int(s_int))\n",
    "\n",
    "print('sum: {}\\naverage: {}'.format(sum(integers), sum(integers)/len(integers)))"
   ]
  },
  {
   "cell_type": "markdown",
   "id": "7d5e0a98",
   "metadata": {},
   "source": [
    "#### 3.7. Получив на вход произвольную строку, подсчитать количество вхождений всех символов в этой строке."
   ]
  },
  {
   "cell_type": "code",
   "execution_count": 27,
   "id": "b5ec33cf",
   "metadata": {},
   "outputs": [
    {
     "name": "stdout",
     "output_type": "stream",
     "text": [
      "{'a': 4, 's': 1, 'd': 1, 'f': 4, 'e': 1, 'r': 2, 'g': 2, 't': 1, 'h': 5, 'c': 1}\n"
     ]
    }
   ],
   "source": [
    "s = 'aaaasdffefrgrthhhghfhc'\n",
    "\n",
    "symbols = dict()\n",
    "\n",
    "for i in s:\n",
    "    if i not in symbols:\n",
    "        symbols[i] = 1\n",
    "    else:\n",
    "        symbols[i] += 1\n",
    "\n",
    "print(symbols)"
   ]
  },
  {
   "cell_type": "code",
   "execution_count": null,
   "id": "55373322",
   "metadata": {},
   "outputs": [],
   "source": []
  }
 ],
 "metadata": {
  "kernelspec": {
   "display_name": "Python 3 (ipykernel)",
   "language": "python",
   "name": "python3"
  },
  "language_info": {
   "codemirror_mode": {
    "name": "ipython",
    "version": 3
   },
   "file_extension": ".py",
   "mimetype": "text/x-python",
   "name": "python",
   "nbconvert_exporter": "python",
   "pygments_lexer": "ipython3",
   "version": "3.11.5"
  }
 },
 "nbformat": 4,
 "nbformat_minor": 5
}
