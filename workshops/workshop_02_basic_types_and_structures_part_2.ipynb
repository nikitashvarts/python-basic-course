{
 "cells": [
  {
   "cell_type": "markdown",
   "id": "ad7bf64f",
   "metadata": {},
   "source": [
    "# Workshop 2: Базовые типы и структуры. Часть 2"
   ]
  },
  {
   "cell_type": "markdown",
   "id": "a69be5ea",
   "metadata": {},
   "source": [
    "## 1. Списки (`list`)"
   ]
  },
  {
   "cell_type": "markdown",
   "id": "37778160",
   "metadata": {},
   "source": [
    "#### 1.1. Создать новый список, состоящий из квадратов чисел данного списка:\n"
   ]
  },
  {
   "cell_type": "code",
   "execution_count": 1,
   "id": "f6cd6ed9",
   "metadata": {
    "ExecuteTime": {
     "end_time": "2023-09-22T09:21:11.142882Z",
     "start_time": "2023-09-22T09:21:11.135637Z"
    }
   },
   "outputs": [],
   "source": [
    "input_list = [1, 2, 3, 4, 5]"
   ]
  },
  {
   "cell_type": "code",
   "execution_count": 2,
   "id": "10aa654f",
   "metadata": {
    "ExecuteTime": {
     "end_time": "2023-09-22T09:21:11.156190Z",
     "start_time": "2023-09-22T09:21:11.145018Z"
    }
   },
   "outputs": [
    {
     "name": "stdout",
     "output_type": "stream",
     "text": [
      "[1, 4, 9, 16, 25]\n"
     ]
    }
   ],
   "source": [
    "# Your code will be here\n",
    "new_list = list(map(pow, input_list, [2]*len(input_list)))\n",
    "print(new_list)"
   ]
  },
  {
   "cell_type": "markdown",
   "id": "bfb515eb",
   "metadata": {},
   "source": [
    "#### 1.2. Соединить два следующих списка поэлементно - каждую пару строк объединить в одну и собрать в единый список:"
   ]
  },
  {
   "cell_type": "code",
   "execution_count": 3,
   "id": "b77aaddf",
   "metadata": {
    "ExecuteTime": {
     "end_time": "2023-09-22T09:21:11.162840Z",
     "start_time": "2023-09-22T09:21:11.157814Z"
    }
   },
   "outputs": [],
   "source": [
    "fisrt_list = ['M', 'na', 'i', 'Ke']\n",
    "second_list = ['y', 'me', 's', 'lly']\n",
    "\n",
    "expected_list = ['My', 'name', 'is', 'Kelly']"
   ]
  },
  {
   "cell_type": "code",
   "execution_count": 4,
   "id": "703ec88d",
   "metadata": {
    "ExecuteTime": {
     "end_time": "2023-09-22T09:21:11.169025Z",
     "start_time": "2023-09-22T09:21:11.165385Z"
    }
   },
   "outputs": [
    {
     "name": "stdout",
     "output_type": "stream",
     "text": [
      "['My', 'name', 'is', 'Kelly']\n"
     ]
    }
   ],
   "source": [
    "# Your code will be here\n",
    "new_list = [i + j for i, j in zip(fisrt_list, second_list)]\n",
    "\n",
    "print(new_list)"
   ]
  },
  {
   "cell_type": "markdown",
   "id": "b5799b9e",
   "metadata": {},
   "source": [
    "#### 1.3. Получив на вход два списка, проитерируйтесь по ним одновременно, причем так, чтобы элементы первого списка были в прямом порядка, а элементы второго - в обратном:"
   ]
  },
  {
   "cell_type": "code",
   "execution_count": 5,
   "id": "17d3f85e",
   "metadata": {
    "ExecuteTime": {
     "end_time": "2023-09-22T09:21:11.175518Z",
     "start_time": "2023-09-22T09:21:11.170930Z"
    }
   },
   "outputs": [],
   "source": [
    "fisrt_list = ['a', 'b', 'c', 'd']\n",
    "second_list = [1, 2, 3, 4]"
   ]
  },
  {
   "cell_type": "code",
   "execution_count": 6,
   "id": "fa417fee",
   "metadata": {
    "ExecuteTime": {
     "end_time": "2023-09-22T09:21:11.185087Z",
     "start_time": "2023-09-22T09:21:11.177443Z"
    }
   },
   "outputs": [
    {
     "name": "stdout",
     "output_type": "stream",
     "text": [
      "a 4\n",
      "b 3\n",
      "c 2\n",
      "d 1\n"
     ]
    }
   ],
   "source": [
    "# Your code will be here\n",
    "for i, j in zip(fisrt_list, second_list[::-1]):\n",
    "    print(i, j)"
   ]
  },
  {
   "cell_type": "markdown",
   "id": "3c583044",
   "metadata": {},
   "source": [
    "#### 1.4. Удалить пустые строки из следующего списка строк:"
   ]
  },
  {
   "cell_type": "code",
   "execution_count": 7,
   "id": "aea51384",
   "metadata": {
    "ExecuteTime": {
     "end_time": "2023-09-22T09:21:11.191428Z",
     "start_time": "2023-09-22T09:21:11.187138Z"
    }
   },
   "outputs": [],
   "source": [
    "input_list = ['Python', 'is', 'a', '', 'beautiful', '', '', 'language']"
   ]
  },
  {
   "cell_type": "code",
   "execution_count": 8,
   "id": "324d175d",
   "metadata": {
    "ExecuteTime": {
     "end_time": "2023-09-22T09:21:11.197434Z",
     "start_time": "2023-09-22T09:21:11.193392Z"
    }
   },
   "outputs": [
    {
     "name": "stdout",
     "output_type": "stream",
     "text": [
      "['Python', 'is', 'a', 'beautiful', 'language']\n"
     ]
    }
   ],
   "source": [
    "# Your code will be here\n",
    "new_list = list(filter(lambda x: x != '', input_list))\n",
    "\n",
    "print(new_list)"
   ]
  },
  {
   "cell_type": "markdown",
   "id": "edce0192",
   "metadata": {},
   "source": [
    "#### 1.5. Добавить элемент `7000` после `6000` в следующем списке:"
   ]
  },
  {
   "cell_type": "code",
   "execution_count": 9,
   "id": "8692928d",
   "metadata": {
    "ExecuteTime": {
     "end_time": "2023-09-22T09:21:11.203696Z",
     "start_time": "2023-09-22T09:21:11.198961Z"
    }
   },
   "outputs": [],
   "source": [
    "input_list = [10, 20, [300, 400, [5000, 6000], 500], 30, 40]"
   ]
  },
  {
   "cell_type": "code",
   "execution_count": 10,
   "id": "85a4a01c",
   "metadata": {
    "ExecuteTime": {
     "end_time": "2023-09-22T09:21:11.209923Z",
     "start_time": "2023-09-22T09:21:11.206614Z"
    }
   },
   "outputs": [
    {
     "name": "stdout",
     "output_type": "stream",
     "text": [
      "[10, 20, [300, 400, [5000, 6000, 7000], 500], 30, 40]\n"
     ]
    }
   ],
   "source": [
    "# Your code will be here\n",
    "input_list[2][2].append(7000)\n",
    "print(input_list)"
   ]
  },
  {
   "cell_type": "markdown",
   "id": "3f4a6af1",
   "metadata": {},
   "source": [
    "#### 1.6. Вставить подсписок `['h', 'i', 'j']` в следующий список списков таким образом, чтобы результат совпал с ожидаемым:"
   ]
  },
  {
   "cell_type": "code",
   "execution_count": 11,
   "id": "f6c4c3ca",
   "metadata": {
    "ExecuteTime": {
     "end_time": "2023-09-22T09:21:11.226592Z",
     "start_time": "2023-09-22T09:21:11.221008Z"
    }
   },
   "outputs": [
    {
     "data": {
      "text/plain": [
       "['a', 'b', ['c', ['d', 'e', ['f', 'g'], 'k'], 'l'], 'm', 'n']"
      ]
     },
     "execution_count": 11,
     "metadata": {},
     "output_type": "execute_result"
    }
   ],
   "source": [
    "input_list = ['a', 'b', ['c', ['d', 'e', ['f', 'g'], 'k'], 'l'], 'm', 'n']\n",
    "input_list"
   ]
  },
  {
   "cell_type": "code",
   "execution_count": 12,
   "id": "294b79ec",
   "metadata": {
    "ExecuteTime": {
     "end_time": "2023-09-22T09:21:11.233837Z",
     "start_time": "2023-09-22T09:21:11.228088Z"
    }
   },
   "outputs": [
    {
     "data": {
      "text/plain": [
       "['a', 'b', ['c', ['d', 'e', ['f', 'g', 'h', 'i', 'j'], 'k'], 'l'], 'm', 'n']"
      ]
     },
     "execution_count": 12,
     "metadata": {},
     "output_type": "execute_result"
    }
   ],
   "source": [
    "expected_list = ['a', 'b', ['c', ['d', 'e', ['f', 'g', 'h', 'i', 'j'], 'k'], 'l'], 'm', 'n']\n",
    "expected_list"
   ]
  },
  {
   "cell_type": "code",
   "execution_count": 13,
   "id": "79073d35",
   "metadata": {
    "ExecuteTime": {
     "end_time": "2023-09-22T09:21:11.270008Z",
     "start_time": "2023-09-22T09:21:11.265116Z"
    }
   },
   "outputs": [
    {
     "data": {
      "text/plain": [
       "['a', 'b', ['c', ['d', 'e', ['f', 'g', 'h', 'i', 'j'], 'k'], 'l'], 'm', 'n']"
      ]
     },
     "execution_count": 13,
     "metadata": {},
     "output_type": "execute_result"
    }
   ],
   "source": [
    "# Your code will be here\n",
    "new_list = input_list.copy()\n",
    "new_list[2][1][2][2:5] = ['h', 'i', 'j']\n",
    "new_list"
   ]
  },
  {
   "cell_type": "markdown",
   "id": "93a748af",
   "metadata": {},
   "source": [
    "#### 1.7. Получив на вход список, найти в нем элемент `20`, и если он присутсвует, заменить его на `200`. Необходимо обновить только первое вхождение в список:"
   ]
  },
  {
   "cell_type": "code",
   "execution_count": 14,
   "id": "b19d4e18",
   "metadata": {
    "ExecuteTime": {
     "end_time": "2023-09-22T09:21:11.252275Z",
     "start_time": "2023-09-22T09:21:11.245558Z"
    }
   },
   "outputs": [],
   "source": [
    "input_list = [1, 55, 3321, 20, 8, 761, 20, 20, 0]"
   ]
  },
  {
   "cell_type": "code",
   "execution_count": 15,
   "id": "0167f451",
   "metadata": {
    "ExecuteTime": {
     "end_time": "2023-09-22T09:21:11.270008Z",
     "start_time": "2023-09-22T09:21:11.265116Z"
    }
   },
   "outputs": [
    {
     "name": "stdout",
     "output_type": "stream",
     "text": [
      "[1, 55, 3321, 200, 8, 761, 20, 20, 0]\n"
     ]
    }
   ],
   "source": [
    "# Your code will be here\n",
    "try:\n",
    "    input_list[input_list.index(20)] = 200\n",
    "    print(input_list)\n",
    "except ValueError:\n",
    "    print(input_list)"
   ]
  },
  {
   "cell_type": "markdown",
   "id": "f8908e86",
   "metadata": {},
   "source": [
    "#### 1.8. Получив на вход список, удалить все вхождения элемента `20` из него:"
   ]
  },
  {
   "cell_type": "code",
   "execution_count": 16,
   "id": "09a374ec",
   "metadata": {
    "ExecuteTime": {
     "end_time": "2023-09-22T09:21:11.263882Z",
     "start_time": "2023-09-22T09:21:11.259960Z"
    }
   },
   "outputs": [],
   "source": [
    "input_list = [1, 55, 3321, 20, 8, 761, 20, 20, 0]"
   ]
  },
  {
   "cell_type": "code",
   "execution_count": 17,
   "id": "12023b5a",
   "metadata": {
    "ExecuteTime": {
     "end_time": "2023-09-22T09:21:11.270008Z",
     "start_time": "2023-09-22T09:21:11.265116Z"
    }
   },
   "outputs": [
    {
     "data": {
      "text/plain": [
       "[1, 55, 3321, 8, 761, 0]"
      ]
     },
     "execution_count": 17,
     "metadata": {},
     "output_type": "execute_result"
    }
   ],
   "source": [
    "# Your code will be here\n",
    "list(filter(lambda x: x != 20, input_list))"
   ]
  },
  {
   "cell_type": "markdown",
   "id": "81095b7b",
   "metadata": {},
   "source": [
    "## 2. Словари (`dict`)"
   ]
  },
  {
   "cell_type": "markdown",
   "id": "c043104e",
   "metadata": {},
   "source": [
    "#### 2.1. Создать словарь их следующих двух списков:"
   ]
  },
  {
   "cell_type": "code",
   "execution_count": 18,
   "id": "ae31c604",
   "metadata": {
    "ExecuteTime": {
     "end_time": "2023-09-22T09:21:11.275901Z",
     "start_time": "2023-09-22T09:21:11.271454Z"
    }
   },
   "outputs": [],
   "source": [
    "keys = ['Ten', 'Twenty', 'Thirty']\n",
    "values = [10, 20, 30]"
   ]
  },
  {
   "cell_type": "code",
   "execution_count": 19,
   "id": "05a26924",
   "metadata": {
    "ExecuteTime": {
     "end_time": "2023-09-22T09:21:11.398526Z",
     "start_time": "2023-09-22T09:21:11.394119Z"
    }
   },
   "outputs": [
    {
     "data": {
      "text/plain": [
       "{'Ten': 10, 'Twenty': 20, 'Thirty': 30}"
      ]
     },
     "execution_count": 19,
     "metadata": {},
     "output_type": "execute_result"
    }
   ],
   "source": [
    "# Your code will be here\n",
    "dict(zip(keys, values))"
   ]
  },
  {
   "cell_type": "markdown",
   "id": "76956f6f",
   "metadata": {},
   "source": [
    "#### 2.2. Содинить два данных словаря в единый:"
   ]
  },
  {
   "cell_type": "code",
   "execution_count": 20,
   "id": "79ad93a6",
   "metadata": {
    "ExecuteTime": {
     "end_time": "2023-09-22T09:21:11.287934Z",
     "start_time": "2023-09-22T09:21:11.283644Z"
    }
   },
   "outputs": [],
   "source": [
    "first_dict = {'Ten': 10, 'Twenty': 20, 'Thirty': 30}\n",
    "second_dict = {'Thirty': 30, 'Fourty': 40, 'Fifty': 50}"
   ]
  },
  {
   "cell_type": "code",
   "execution_count": 21,
   "id": "f0436fe7",
   "metadata": {
    "ExecuteTime": {
     "end_time": "2023-09-22T09:21:11.398526Z",
     "start_time": "2023-09-22T09:21:11.394119Z"
    }
   },
   "outputs": [
    {
     "data": {
      "text/plain": [
       "{'Ten': 10, 'Twenty': 20, 'Thirty': 30, 'Fourty': 40, 'Fifty': 50}"
      ]
     },
     "execution_count": 21,
     "metadata": {},
     "output_type": "execute_result"
    }
   ],
   "source": [
    "# Your code will be here\n",
    "first_dict.update(second_dict)\n",
    "first_dict"
   ]
  },
  {
   "cell_type": "markdown",
   "id": "8df0f1d2",
   "metadata": {},
   "source": [
    "#### 2.3. Обратиться к элементу `history` в следующем словаре:"
   ]
  },
  {
   "cell_type": "code",
   "execution_count": 22,
   "id": "93e5119b",
   "metadata": {
    "ExecuteTime": {
     "end_time": "2023-09-22T09:21:11.300667Z",
     "start_time": "2023-09-22T09:21:11.296445Z"
    }
   },
   "outputs": [],
   "source": [
    "sampleDict = { \n",
    "   \"class\":{ \n",
    "      \"student\":{ \n",
    "         \"name\":\"Mike\",\n",
    "         \"marks\":{ \n",
    "            \"physics\":70,\n",
    "            \"history\":80\n",
    "         }\n",
    "      }\n",
    "   }\n",
    "}"
   ]
  },
  {
   "cell_type": "code",
   "execution_count": 23,
   "id": "1da3e221",
   "metadata": {
    "ExecuteTime": {
     "end_time": "2023-09-22T09:21:11.398526Z",
     "start_time": "2023-09-22T09:21:11.394119Z"
    }
   },
   "outputs": [
    {
     "data": {
      "text/plain": [
       "80"
      ]
     },
     "execution_count": 23,
     "metadata": {},
     "output_type": "execute_result"
    }
   ],
   "source": [
    "# Your code will be here\n",
    "sampleDict['class']['student']['marks']['history']"
   ]
  },
  {
   "cell_type": "markdown",
   "id": "880e2e82",
   "metadata": {},
   "source": [
    "#### 2.4. Инициализировать словарь со значениями по умолчанию:"
   ]
  },
  {
   "cell_type": "code",
   "execution_count": 24,
   "id": "263bb6c3",
   "metadata": {
    "ExecuteTime": {
     "end_time": "2023-09-22T09:21:11.313228Z",
     "start_time": "2023-09-22T09:21:11.308371Z"
    }
   },
   "outputs": [],
   "source": [
    "employees = ['Kelly', 'Emma', 'John']\n",
    "defaults = {'Application Developer', 8000}"
   ]
  },
  {
   "cell_type": "code",
   "execution_count": 25,
   "id": "e404528f",
   "metadata": {
    "ExecuteTime": {
     "end_time": "2023-09-22T09:21:11.321349Z",
     "start_time": "2023-09-22T09:21:11.315078Z"
    }
   },
   "outputs": [],
   "source": [
    "expected_dict = {\n",
    "    'Kelly': {'Application Developer', 8000},\n",
    "    'Emma': {'Application Developer', 8000},\n",
    "    'John': {'Application Developer', 8000},\n",
    "}"
   ]
  },
  {
   "cell_type": "code",
   "execution_count": 26,
   "id": "a6ea6fc4",
   "metadata": {
    "ExecuteTime": {
     "end_time": "2023-09-22T09:21:11.398526Z",
     "start_time": "2023-09-22T09:21:11.394119Z"
    }
   },
   "outputs": [
    {
     "data": {
      "text/plain": [
       "{'Kelly': {8000, 'Application Developer'},\n",
       " 'Emma': {8000, 'Application Developer'},\n",
       " 'John': {8000, 'Application Developer'}}"
      ]
     },
     "execution_count": 26,
     "metadata": {},
     "output_type": "execute_result"
    }
   ],
   "source": [
    "# Your code will be here\n",
    "dict(zip(employees, [defaults]*3))"
   ]
  },
  {
   "cell_type": "markdown",
   "id": "bbc0ecc4",
   "metadata": {},
   "source": [
    "#### 2.5. Создать новый словарь, состоящий из указанных ключей и их значений другого словаря:"
   ]
  },
  {
   "cell_type": "code",
   "execution_count": 27,
   "id": "958fed40",
   "metadata": {
    "ExecuteTime": {
     "end_time": "2023-09-22T09:21:11.341950Z",
     "start_time": "2023-09-22T09:21:11.336877Z"
    }
   },
   "outputs": [],
   "source": [
    "input_dict = {\n",
    "    'name': 'Kelly',\n",
    "    'age': 25,\n",
    "    'salary': 8000,\n",
    "    'city': 'New York',\n",
    "}\n",
    "\n",
    "keys = ['name', 'salary']"
   ]
  },
  {
   "cell_type": "code",
   "execution_count": 28,
   "id": "14e3f8f7",
   "metadata": {
    "ExecuteTime": {
     "end_time": "2023-09-22T09:21:11.398526Z",
     "start_time": "2023-09-22T09:21:11.394119Z"
    }
   },
   "outputs": [
    {
     "data": {
      "text/plain": [
       "{'name': 'Kelly', 'salary': 8000}"
      ]
     },
     "execution_count": 28,
     "metadata": {},
     "output_type": "execute_result"
    }
   ],
   "source": [
    "# Your code will be here\n",
    "new_dict = {k: v for k, v in input_dict.items() if k in keys}\n",
    "new_dict"
   ]
  },
  {
   "cell_type": "markdown",
   "id": "f18d4ebe",
   "metadata": {},
   "source": [
    "#### 2.6. Удалить из данного словаря элементы со следующими ключами:"
   ]
  },
  {
   "cell_type": "code",
   "execution_count": 29,
   "id": "1214ff20",
   "metadata": {
    "ExecuteTime": {
     "end_time": "2023-09-22T09:21:11.357434Z",
     "start_time": "2023-09-22T09:21:11.353227Z"
    }
   },
   "outputs": [],
   "source": [
    "input_dict = {\n",
    "    'name': 'Kelly',\n",
    "    'age': 25,\n",
    "    'salary': 8000,\n",
    "    'city': 'New York',\n",
    "}\n",
    "\n",
    "keys = ['name', 'salary']"
   ]
  },
  {
   "cell_type": "code",
   "execution_count": 30,
   "id": "a67eee27",
   "metadata": {
    "ExecuteTime": {
     "end_time": "2023-09-22T09:21:11.363606Z",
     "start_time": "2023-09-22T09:21:11.359025Z"
    }
   },
   "outputs": [
    {
     "data": {
      "text/plain": [
       "{'age': 25, 'city': 'New York'}"
      ]
     },
     "execution_count": 30,
     "metadata": {},
     "output_type": "execute_result"
    }
   ],
   "source": [
    "# Your code will be here\n",
    "\n",
    "# input_dict = {k: v for k, v in input_dict.items() if k not in keys}\n",
    "# input_dict\n",
    "\n",
    "for k in keys:\n",
    "    input_dict.pop(k)\n",
    "input_dict"
   ]
  },
  {
   "cell_type": "markdown",
   "id": "ca2b9cd3",
   "metadata": {},
   "source": [
    "#### 2.7. Проверить, есть ли значение `200` в следующем словаре"
   ]
  },
  {
   "cell_type": "code",
   "execution_count": 31,
   "id": "6a9afd6d",
   "metadata": {
    "ExecuteTime": {
     "end_time": "2023-09-22T09:21:11.370497Z",
     "start_time": "2023-09-22T09:21:11.365140Z"
    }
   },
   "outputs": [],
   "source": [
    "input_dict = {'a': 100, 'b': 200, 'c': 300}"
   ]
  },
  {
   "cell_type": "code",
   "execution_count": 32,
   "id": "1a7b19e0",
   "metadata": {
    "ExecuteTime": {
     "end_time": "2023-09-22T09:21:11.398526Z",
     "start_time": "2023-09-22T09:21:11.394119Z"
    }
   },
   "outputs": [
    {
     "data": {
      "text/plain": [
       "True"
      ]
     },
     "execution_count": 32,
     "metadata": {},
     "output_type": "execute_result"
    }
   ],
   "source": [
    "# Your code will be here\n",
    "200 in input_dict.values()"
   ]
  },
  {
   "cell_type": "markdown",
   "id": "69df60c8",
   "metadata": {},
   "source": [
    "#### 2.8. Переименовать ключ `city` в `location` в следующем словаре:"
   ]
  },
  {
   "cell_type": "code",
   "execution_count": 33,
   "id": "2b472deb",
   "metadata": {
    "ExecuteTime": {
     "end_time": "2023-09-22T09:21:11.381447Z",
     "start_time": "2023-09-22T09:21:11.377478Z"
    }
   },
   "outputs": [],
   "source": [
    "input_dict = {\n",
    "    'name': 'Kelly',\n",
    "    'age': 25,\n",
    "    'salary': 8000,\n",
    "    'city': 'New York',\n",
    "}"
   ]
  },
  {
   "cell_type": "code",
   "execution_count": 34,
   "id": "5981251a",
   "metadata": {
    "ExecuteTime": {
     "end_time": "2023-09-22T09:21:11.398526Z",
     "start_time": "2023-09-22T09:21:11.394119Z"
    }
   },
   "outputs": [
    {
     "data": {
      "text/plain": [
       "{'name': 'Kelly', 'age': 25, 'salary': 8000, 'location': 'New York'}"
      ]
     },
     "execution_count": 34,
     "metadata": {},
     "output_type": "execute_result"
    }
   ],
   "source": [
    "# Your code will be here\n",
    "input_dict['location'] = input_dict.pop('city')\n",
    "input_dict"
   ]
  },
  {
   "cell_type": "markdown",
   "id": "59e1ee8c",
   "metadata": {},
   "source": [
    "#### 2.9. Вывести ключ, соответсвующий минимальному элементу следующего словаря:"
   ]
  },
  {
   "cell_type": "code",
   "execution_count": 35,
   "id": "a4347ed0",
   "metadata": {
    "ExecuteTime": {
     "end_time": "2023-09-22T09:21:11.392673Z",
     "start_time": "2023-09-22T09:21:11.388419Z"
    }
   },
   "outputs": [],
   "source": [
    "input_dict = {\n",
    "    'Physics': 82,\n",
    "    'Math': 65,\n",
    "    'history': 75,\n",
    "}"
   ]
  },
  {
   "cell_type": "code",
   "execution_count": 36,
   "id": "656060df",
   "metadata": {
    "ExecuteTime": {
     "end_time": "2023-09-22T09:21:11.398526Z",
     "start_time": "2023-09-22T09:21:11.394119Z"
    }
   },
   "outputs": [
    {
     "data": {
      "text/plain": [
       "'Math'"
      ]
     },
     "execution_count": 36,
     "metadata": {},
     "output_type": "execute_result"
    }
   ],
   "source": [
    "# Your code will be here\n",
    "tuple(filter(lambda items: items[1] == min(input_dict.values()), input_dict.items()))[0][0]"
   ]
  },
  {
   "cell_type": "markdown",
   "id": "fda103c3",
   "metadata": {},
   "source": [
    "## 3. Множества (`set`) "
   ]
  },
  {
   "cell_type": "markdown",
   "id": "4483047e",
   "metadata": {},
   "source": [
    "#### 3.1. Добаить элемент списка к данному множеству:"
   ]
  },
  {
   "cell_type": "code",
   "execution_count": 37,
   "id": "5087d050",
   "metadata": {
    "ExecuteTime": {
     "end_time": "2023-09-22T09:21:11.404074Z",
     "start_time": "2023-09-22T09:21:11.399832Z"
    }
   },
   "outputs": [],
   "source": [
    "input_set = {'Yellow', 'Orange', 'Black'}\n",
    "input_list = ['Blue', 'Green', 'Red']"
   ]
  },
  {
   "cell_type": "code",
   "execution_count": 38,
   "id": "5bab6120",
   "metadata": {
    "ExecuteTime": {
     "end_time": "2023-09-22T09:21:11.483141Z",
     "start_time": "2023-09-22T09:21:11.479395Z"
    }
   },
   "outputs": [
    {
     "data": {
      "text/plain": [
       "{'Black', 'Blue', 'Green', 'Orange', 'Red', 'Yellow'}"
      ]
     },
     "execution_count": 38,
     "metadata": {},
     "output_type": "execute_result"
    }
   ],
   "source": [
    "# Your code will be here\n",
    "input_set.update(input_list)\n",
    "\n",
    "input_set"
   ]
  },
  {
   "cell_type": "markdown",
   "id": "1ce0798e",
   "metadata": {},
   "source": [
    "#### 3.2. Получить множество общих элементов следующих списков:"
   ]
  },
  {
   "cell_type": "code",
   "execution_count": 39,
   "id": "4e436ea6",
   "metadata": {
    "ExecuteTime": {
     "end_time": "2023-09-22T09:21:11.415879Z",
     "start_time": "2023-09-22T09:21:11.411690Z"
    }
   },
   "outputs": [],
   "source": [
    "first_list = [10, 20, 30, 40, 50]\n",
    "second_list = [30, 40, 50, 60, 70]"
   ]
  },
  {
   "cell_type": "code",
   "execution_count": 40,
   "id": "4529ed45",
   "metadata": {
    "ExecuteTime": {
     "end_time": "2023-09-22T09:21:11.483141Z",
     "start_time": "2023-09-22T09:21:11.479395Z"
    }
   },
   "outputs": [
    {
     "data": {
      "text/plain": [
       "{30, 40, 50}"
      ]
     },
     "execution_count": 40,
     "metadata": {},
     "output_type": "execute_result"
    }
   ],
   "source": [
    "# Your code will be here\n",
    "set(first_list)&set(second_list)"
   ]
  },
  {
   "cell_type": "markdown",
   "id": "d9c04286",
   "metadata": {},
   "source": [
    "#### 3.3. Инициализировать новое множество, состоящее из всех элементов первого и второго списков без дубликатов:"
   ]
  },
  {
   "cell_type": "code",
   "execution_count": 41,
   "id": "5186e61a",
   "metadata": {
    "ExecuteTime": {
     "end_time": "2023-09-22T09:21:11.427943Z",
     "start_time": "2023-09-22T09:21:11.423851Z"
    }
   },
   "outputs": [],
   "source": [
    "first_list = [10, 20, 30, 40, 50]\n",
    "second_list = [30, 40, 50, 60, 70]"
   ]
  },
  {
   "cell_type": "code",
   "execution_count": 42,
   "id": "19a7d2d8",
   "metadata": {
    "ExecuteTime": {
     "end_time": "2023-09-22T09:21:11.483141Z",
     "start_time": "2023-09-22T09:21:11.479395Z"
    }
   },
   "outputs": [
    {
     "data": {
      "text/plain": [
       "{10, 20, 30, 40, 50, 60, 70}"
      ]
     },
     "execution_count": 42,
     "metadata": {},
     "output_type": "execute_result"
    }
   ],
   "source": [
    "# Your code will be here\n",
    "set(first_list)|set(second_list)"
   ]
  },
  {
   "cell_type": "markdown",
   "id": "7ed61ed5",
   "metadata": {},
   "source": [
    "#### 3.4. Обновить первый список таким образом, чтобы в нем остались только те элементы, которых нет во втором списке:"
   ]
  },
  {
   "cell_type": "code",
   "execution_count": 43,
   "id": "e9220c4d",
   "metadata": {
    "ExecuteTime": {
     "end_time": "2023-09-22T09:21:11.440351Z",
     "start_time": "2023-09-22T09:21:11.436063Z"
    }
   },
   "outputs": [],
   "source": [
    "first_list = [10, 20, 30, 40, 50]\n",
    "second_list = [30, 40, 50, 60, 70]"
   ]
  },
  {
   "cell_type": "code",
   "execution_count": 44,
   "id": "2f4afcc7",
   "metadata": {
    "ExecuteTime": {
     "end_time": "2023-09-22T09:21:11.483141Z",
     "start_time": "2023-09-22T09:21:11.479395Z"
    }
   },
   "outputs": [
    {
     "data": {
      "text/plain": [
       "[10, 20]"
      ]
     },
     "execution_count": 44,
     "metadata": {},
     "output_type": "execute_result"
    }
   ],
   "source": [
    "# Your code will be here\n",
    "first_list = list(set(first_list)-set(second_list))\n",
    "first_list"
   ]
  },
  {
   "cell_type": "markdown",
   "id": "7df884da",
   "metadata": {},
   "source": [
    "#### 3.5. Удалить из следующего множества элементы `10`, `20`, `30` за одну операцию: "
   ]
  },
  {
   "cell_type": "code",
   "execution_count": 45,
   "id": "e8795982",
   "metadata": {
    "ExecuteTime": {
     "end_time": "2023-09-22T09:21:11.452411Z",
     "start_time": "2023-09-22T09:21:11.447912Z"
    }
   },
   "outputs": [],
   "source": [
    "input_set = {10, 20, 30, 40, 50}"
   ]
  },
  {
   "cell_type": "code",
   "execution_count": 46,
   "id": "f1715bc6",
   "metadata": {
    "ExecuteTime": {
     "end_time": "2023-09-22T09:21:11.483141Z",
     "start_time": "2023-09-22T09:21:11.479395Z"
    }
   },
   "outputs": [
    {
     "data": {
      "text/plain": [
       "{40, 50}"
      ]
     },
     "execution_count": 46,
     "metadata": {},
     "output_type": "execute_result"
    }
   ],
   "source": [
    "# Your code will be here\n",
    "input_set = input_set - {10, 20, 30}\n",
    "input_set"
   ]
  },
  {
   "cell_type": "markdown",
   "id": "5044e5bd",
   "metadata": {},
   "source": [
    "#### 3.6. Получить множетсво всех элементов, которые принадлежать либо первому, либо второму списку, но не обоим:"
   ]
  },
  {
   "cell_type": "code",
   "execution_count": 47,
   "id": "3d724d22",
   "metadata": {
    "ExecuteTime": {
     "end_time": "2023-09-22T09:21:11.465330Z",
     "start_time": "2023-09-22T09:21:11.460869Z"
    }
   },
   "outputs": [],
   "source": [
    "first_list = [10, 20, 30, 40, 50]\n",
    "second_list = [30, 40, 50, 60, 70]"
   ]
  },
  {
   "cell_type": "code",
   "execution_count": 48,
   "id": "3bddf1ec",
   "metadata": {
    "ExecuteTime": {
     "end_time": "2023-09-22T09:21:11.506376Z",
     "start_time": "2023-09-22T09:21:11.502190Z"
    }
   },
   "outputs": [
    {
     "data": {
      "text/plain": [
       "{10, 20, 60, 70}"
      ]
     },
     "execution_count": 48,
     "metadata": {},
     "output_type": "execute_result"
    }
   ],
   "source": [
    "# Your code will be here\n",
    "set(first_list)^set(second_list)"
   ]
  },
  {
   "cell_type": "markdown",
   "id": "d90b2e5c",
   "metadata": {},
   "source": [
    "#### 3.7. Определить, есть ли общие элементы у следующих множеств. Если есть, отобразить их:"
   ]
  },
  {
   "cell_type": "code",
   "execution_count": 49,
   "id": "3fd51ee1",
   "metadata": {
    "ExecuteTime": {
     "end_time": "2023-09-22T09:21:11.477064Z",
     "start_time": "2023-09-22T09:21:11.473217Z"
    }
   },
   "outputs": [],
   "source": [
    "fisrt_set = {10, 20, 30, 40, 50}\n",
    "second_set = {60, 70, 80, 90, 10}"
   ]
  },
  {
   "cell_type": "code",
   "execution_count": 50,
   "id": "4501d84e",
   "metadata": {
    "ExecuteTime": {
     "end_time": "2023-09-22T09:21:11.483141Z",
     "start_time": "2023-09-22T09:21:11.479395Z"
    }
   },
   "outputs": [
    {
     "name": "stdout",
     "output_type": "stream",
     "text": [
      "{10}\n"
     ]
    }
   ],
   "source": [
    "# Your code will be here\n",
    "intersection = fisrt_set & second_set\n",
    "\n",
    "if intersection != set():\n",
    "    print(intersection)"
   ]
  },
  {
   "cell_type": "markdown",
   "id": "321ec2d7",
   "metadata": {},
   "source": [
    "#### 3.8. Обновить первое множество, добавив в него элементы из второго, кроме элементов, присутсвующих в обоих множествах:"
   ]
  },
  {
   "cell_type": "code",
   "execution_count": 55,
   "id": "4edd411e",
   "metadata": {
    "ExecuteTime": {
     "end_time": "2023-09-22T09:21:11.489132Z",
     "start_time": "2023-09-22T09:21:11.485153Z"
    }
   },
   "outputs": [],
   "source": [
    "fisrt_set = {10, 20, 30, 40, 50}\n",
    "second_set = {30, 40, 50, 60, 70}"
   ]
  },
  {
   "cell_type": "code",
   "execution_count": 56,
   "id": "c9446cbd",
   "metadata": {
    "ExecuteTime": {
     "end_time": "2023-09-22T09:21:11.506376Z",
     "start_time": "2023-09-22T09:21:11.502190Z"
    }
   },
   "outputs": [
    {
     "data": {
      "text/plain": [
       "{10, 20, 30, 40, 50, 60, 70}"
      ]
     },
     "execution_count": 56,
     "metadata": {},
     "output_type": "execute_result"
    }
   ],
   "source": [
    "# Your code will be here\n",
    "\n",
    "\n",
    "# Разве это не то же самое, что просто объединить их?\n",
    "fisrt_set.update(second_set)\n",
    "fisrt_set"
   ]
  },
  {
   "cell_type": "markdown",
   "id": "95db525e",
   "metadata": {},
   "source": [
    "#### 3.9. Удалить из первого множества элементы, которые не содержатся и в первом и во втором множестве одновременно:"
   ]
  },
  {
   "cell_type": "code",
   "execution_count": 53,
   "id": "aef0a4de",
   "metadata": {
    "ExecuteTime": {
     "end_time": "2023-09-22T09:21:11.500886Z",
     "start_time": "2023-09-22T09:21:11.496743Z"
    }
   },
   "outputs": [],
   "source": [
    "fisrt_set = {10, 20, 30, 40, 50}\n",
    "second_set = {30, 40, 50, 60, 70}"
   ]
  },
  {
   "cell_type": "code",
   "execution_count": 54,
   "id": "e7ec4417",
   "metadata": {
    "ExecuteTime": {
     "end_time": "2023-09-22T09:21:11.506376Z",
     "start_time": "2023-09-22T09:21:11.502190Z"
    }
   },
   "outputs": [
    {
     "data": {
      "text/plain": [
       "{30, 40, 50}"
      ]
     },
     "execution_count": 54,
     "metadata": {},
     "output_type": "execute_result"
    }
   ],
   "source": [
    "# Your code will be here\n",
    "fisrt_set = fisrt_set - (fisrt_set^second_set)\n",
    "fisrt_set"
   ]
  },
  {
   "cell_type": "code",
   "execution_count": null,
   "id": "821544ec",
   "metadata": {},
   "outputs": [],
   "source": []
  }
 ],
 "metadata": {
  "kernelspec": {
   "display_name": "Python 3 (ipykernel)",
   "language": "python",
   "name": "python3"
  },
  "language_info": {
   "codemirror_mode": {
    "name": "ipython",
    "version": 3
   },
   "file_extension": ".py",
   "mimetype": "text/x-python",
   "name": "python",
   "nbconvert_exporter": "python",
   "pygments_lexer": "ipython3",
   "version": "3.11.5"
  }
 },
 "nbformat": 4,
 "nbformat_minor": 5
}
