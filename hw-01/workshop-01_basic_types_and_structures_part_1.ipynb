{
 "cells": [
  {
   "cell_type": "markdown",
   "id": "5c258e2b",
   "metadata": {},
   "source": [
    "# Workshop 1: Базовые типы и структуры. Часть 1"
   ]
  },
  {
   "cell_type": "markdown",
   "id": "46e98e1c",
   "metadata": {},
   "source": [
    "## 1. Условный оператор `if-else`, циклы `for` и `while`"
   ]
  },
  {
   "cell_type": "markdown",
   "id": "a695bf38",
   "metadata": {},
   "source": [
    "#### 1.1. Запросить число `n` от пользователя и вычислить сумму всех чисел от 1 до `n`, включая `n`."
   ]
  },
  {
   "cell_type": "code",
   "execution_count": 97,
   "id": "5df6cb33",
   "metadata": {},
   "outputs": [
    {
     "name": "stdout",
     "output_type": "stream",
     "text": [
      "595\n"
     ]
    }
   ],
   "source": [
    "n = (int(input ('Type a number: ')))\n",
    "if n < 1:\n",
    "    raise ValueError('Incorrect number!')\n",
    "sum = 0\n",
    "for i in range(1, n + 1):\n",
    "    sum += i\n",
    "print(sum)\n"
   ]
  },
  {
   "cell_type": "markdown",
   "id": "5835ac87",
   "metadata": {},
   "source": [
    "#### 1.2. Отобразить числа от -10 до -1, используя цикл `for`."
   ]
  },
  {
   "cell_type": "code",
   "execution_count": 98,
   "id": "2970679f",
   "metadata": {},
   "outputs": [
    {
     "name": "stdout",
     "output_type": "stream",
     "text": [
      "-10\n",
      "-9\n",
      "-8\n",
      "-7\n",
      "-6\n",
      "-5\n",
      "-4\n",
      "-3\n",
      "-2\n",
      "-1\n"
     ]
    }
   ],
   "source": [
    "for i in range (-10, 0):\n",
    "    print (i)"
   ]
  },
  {
   "cell_type": "markdown",
   "id": "075cc101",
   "metadata": {},
   "source": [
    "#### 1.3. Получив на вход список, итеративно пройти по нему и вывести числа, которые делятся на 5. Если в процессе итераций встретится число, большее 120, остановить цикл."
   ]
  },
  {
   "cell_type": "code",
   "execution_count": 99,
   "id": "06165d24",
   "metadata": {},
   "outputs": [
    {
     "name": "stdout",
     "output_type": "stream",
     "text": [
      "5\n",
      "10\n",
      "15\n",
      "10\n"
     ]
    }
   ],
   "source": [
    "def divideByFive(lst):\n",
    "    for el in lst:\n",
    "        if el > 120:\n",
    "            break\n",
    "        if el % 5 == 0:\n",
    "            print(el)\n",
    "divideByFive([1, 5, 6, 10, 15, 3, 10, 125])"
   ]
  },
  {
   "cell_type": "markdown",
   "id": "6d459f21",
   "metadata": {},
   "source": [
    "#### 1.4. Вывести в консоль следующий паттерн:\n",
    "```\n",
    "5 4 3 2 1\n",
    "4 3 2 1\n",
    "3 2 1\n",
    "2 1\n",
    "1\n",
    "```"
   ]
  },
  {
   "cell_type": "code",
   "execution_count": 100,
   "id": "8cc5516a",
   "metadata": {},
   "outputs": [
    {
     "name": "stdout",
     "output_type": "stream",
     "text": [
      "5 4 3 2 1 \n",
      "\n",
      "4 3 2 1 \n",
      "\n",
      "3 2 1 \n",
      "\n",
      "2 1 \n",
      "\n",
      "1 \n",
      "\n"
     ]
    }
   ],
   "source": [
    "def printPattern(n):\n",
    "    for i in range (0, n):\n",
    "        for j in range (n - i, 0, -1):\n",
    "            print(j, end =' ')\n",
    "        print('\\n')\n",
    "\n",
    "printPattern(5)"
   ]
  },
  {
   "cell_type": "markdown",
   "id": "f96046bb",
   "metadata": {},
   "source": [
    "#### 1.5. Получив на вход целочисленное число (`int`), определить общее число цифр в нем."
   ]
  },
  {
   "cell_type": "code",
   "execution_count": 101,
   "id": "b31c6a36",
   "metadata": {},
   "outputs": [
    {
     "name": "stdout",
     "output_type": "stream",
     "text": [
      "4\n",
      "4\n"
     ]
    }
   ],
   "source": [
    "n = (int(input ('Type a number: ')))\n",
    "\n",
    "import math\n",
    "print(int(math.log10(n)) + 1)\n",
    "\n",
    "def digits(n):\n",
    "    count = 0\n",
    "    while n > 0:\n",
    "        count += 1\n",
    "        n = n // 10\n",
    "    return count\n",
    "\n",
    "print(digits(n))"
   ]
  },
  {
   "cell_type": "markdown",
   "id": "1d5230ab",
   "metadata": {},
   "source": [
    "#### 1.6. Получив на вход список (`list`), обратить его с помощью цикла `for`"
   ]
  },
  {
   "cell_type": "code",
   "execution_count": 102,
   "id": "42f1f62f",
   "metadata": {},
   "outputs": [
    {
     "name": "stdout",
     "output_type": "stream",
     "text": [
      "2\n",
      "[5, 4, 3, 2, 1]\n"
     ]
    }
   ],
   "source": [
    "def reverse(lst):\n",
    "    print(len(lst) // 2)\n",
    "    n = len(lst) - 1\n",
    "    for i in range(0, (len(lst) // 2)):\n",
    "        lst[i], lst[n - i] = lst[n - i], lst[i]\n",
    "    return lst\n",
    "\n",
    "print(reverse([1, 2, 3, 4, 5]))"
   ]
  },
  {
   "cell_type": "markdown",
   "id": "9c249bbe",
   "metadata": {},
   "source": [
    "#### 1.7. Написать произвольный цикл, содержащий условие внтури, и вывести сообщение \"Done\" в случае, если условие ни разу не выполнилось. NOTE: не используя дополнительные переменные."
   ]
  },
  {
   "cell_type": "code",
   "execution_count": 103,
   "id": "e6db7d8d",
   "metadata": {},
   "outputs": [
    {
     "name": "stdout",
     "output_type": "stream",
     "text": [
      "Done\n"
     ]
    }
   ],
   "source": [
    "for _ in range(5):\n",
    "    if 1 == 0:\n",
    "        break\n",
    "else:\n",
    "    print('Done')"
   ]
  },
  {
   "cell_type": "markdown",
   "id": "49141bf4",
   "metadata": {},
   "source": [
    "## 2. Функции, аргументы функций, встроенные функции"
   ]
  },
  {
   "cell_type": "markdown",
   "id": "da923fbf",
   "metadata": {},
   "source": [
    "#### 2.1. Напишите функцию `calculation()` таким образом, чтобы она могла принимать две переменные и вычислять их сложение и вычитание. А также она должна возвращать как сложение, так и вычитание за один вызов."
   ]
  },
  {
   "cell_type": "code",
   "execution_count": 104,
   "id": "12865084",
   "metadata": {},
   "outputs": [
    {
     "name": "stdout",
     "output_type": "stream",
     "text": [
      "(8, 2)\n"
     ]
    }
   ],
   "source": [
    "def calculation(x, y):\n",
    "    return x + y, x - y\n",
    "print(calculation(5, 3))"
   ]
  },
  {
   "cell_type": "markdown",
   "id": "b3aad320",
   "metadata": {},
   "source": [
    "#### 2.2. Напишите функцию `showEmployee()` таким образом, чтобы она принимала имя сотрудника и его зарплату и отображала и то, и другое. А если зарплата отсутствует при вызове функции, функция должна отображать ее равную 9000."
   ]
  },
  {
   "cell_type": "code",
   "execution_count": 44,
   "id": "1985780b",
   "metadata": {},
   "outputs": [
    {
     "name": "stdout",
     "output_type": "stream",
     "text": [
      "Employee#1 :  10000\n",
      "Employee#2 :  9000\n"
     ]
    }
   ],
   "source": [
    "def showEmployee(employee, salary = 9000):\n",
    "    print(employee, \": \", salary)\n",
    "showEmployee(\"Employee#1\", 10000)\n",
    "showEmployee(\"Employee#2\")"
   ]
  },
  {
   "cell_type": "markdown",
   "id": "19197ff0",
   "metadata": {},
   "source": [
    "#### 2.3. Напишите рекурсивную функцию для вычисления чисел от 0 до 10."
   ]
  },
  {
   "cell_type": "code",
   "execution_count": 105,
   "id": "792607dd",
   "metadata": {},
   "outputs": [
    {
     "name": "stdout",
     "output_type": "stream",
     "text": [
      "0\n",
      "1\n",
      "2\n",
      "3\n",
      "4\n",
      "5\n",
      "6\n",
      "7\n",
      "8\n",
      "9\n",
      "10\n"
     ]
    }
   ],
   "source": [
    "def recursive(n = 0):\n",
    "    if n > 10:\n",
    "        return\n",
    "    else:\n",
    "        print(n)\n",
    "        recursive(n + 1)\n",
    "\n",
    "recursive()"
   ]
  },
  {
   "cell_type": "markdown",
   "id": "36080579",
   "metadata": {},
   "source": [
    "#### 2.4. Напишите функцию таким образом, чтобы она могла принимать переменное количество аргументов и выводить значение всех этих аргументов."
   ]
  },
  {
   "cell_type": "code",
   "execution_count": 106,
   "id": "e914b52b",
   "metadata": {},
   "outputs": [
    {
     "name": "stdout",
     "output_type": "stream",
     "text": [
      "1 4 5 2 -5 0 12 11 "
     ]
    }
   ],
   "source": [
    "def varargs(*args):\n",
    "    for i in args:\n",
    "        print(i, end=\" \")\n",
    "\n",
    "varargs(1, 4, 5, 2, -5, 0, 12, 11)  "
   ]
  },
  {
   "cell_type": "markdown",
   "id": "75b4d257",
   "metadata": {},
   "source": [
    "#### 2.5. Напишите произвольную функцию, после этого присвойте ей другое имя, а затем вызовите ее с помощью нового имени."
   ]
  },
  {
   "cell_type": "code",
   "execution_count": 107,
   "id": "64f882f3",
   "metadata": {},
   "outputs": [
    {
     "name": "stdout",
     "output_type": "stream",
     "text": [
      "Hello\n",
      "Hello\n"
     ]
    }
   ],
   "source": [
    "def my_fun():\n",
    "    print(\"Hello\")\n",
    "\n",
    "hello = my_fun\n",
    "hello()\n",
    "my_fun()"
   ]
  },
  {
   "cell_type": "markdown",
   "id": "a6a9ec34",
   "metadata": {},
   "source": [
    "#### 2.6. Сгенерируйте список всех четных чисел от 4 до 40."
   ]
  },
  {
   "cell_type": "code",
   "execution_count": 108,
   "id": "9b3e0a72",
   "metadata": {},
   "outputs": [
    {
     "name": "stdout",
     "output_type": "stream",
     "text": [
      "[4, 6, 8, 10, 12, 14, 16, 18, 20, 22, 24, 26, 28, 30, 32, 34, 36, 38, 40]\n"
     ]
    },
    {
     "ename": "TypeError",
     "evalue": "'list' object is not callable",
     "output_type": "error",
     "traceback": [
      "\u001b[1;31m---------------------------------------------------------------------------\u001b[0m",
      "\u001b[1;31mTypeError\u001b[0m                                 Traceback (most recent call last)",
      "\u001b[1;32me:\\python\\python-basic-course\\workshops\\workshop-01_basic_types_and_structures_part_1.ipynb Cell 29\u001b[0m line \u001b[0;36m2\n\u001b[0;32m      <a href='vscode-notebook-cell:/e%3A/python/python-basic-course/workshops/workshop-01_basic_types_and_structures_part_1.ipynb#X40sZmlsZQ%3D%3D?line=0'>1</a>\u001b[0m \u001b[39mprint\u001b[39m([i \u001b[39mfor\u001b[39;00m i \u001b[39min\u001b[39;00m \u001b[39mrange\u001b[39m(\u001b[39m4\u001b[39m, \u001b[39m40\u001b[39m \u001b[39m+\u001b[39m \u001b[39m1\u001b[39m) \u001b[39mif\u001b[39;00m i \u001b[39m%\u001b[39m \u001b[39m2\u001b[39m \u001b[39m==\u001b[39m \u001b[39m0\u001b[39m])\n\u001b[1;32m----> <a href='vscode-notebook-cell:/e%3A/python/python-basic-course/workshops/workshop-01_basic_types_and_structures_part_1.ipynb#X40sZmlsZQ%3D%3D?line=1'>2</a>\u001b[0m \u001b[39mprint\u001b[39m(\u001b[39mlist\u001b[39;49m(\u001b[39mrange\u001b[39;49m(\u001b[39m4\u001b[39;49m, \u001b[39m42\u001b[39;49m, \u001b[39m2\u001b[39;49m)))\n",
      "\u001b[1;31mTypeError\u001b[0m: 'list' object is not callable"
     ]
    }
   ],
   "source": [
    "print([i for i in range(4, 40 + 1) if i % 2 == 0])\n",
    "print(list(range(4, 42, 2)))"
   ]
  },
  {
   "cell_type": "markdown",
   "id": "514a3c3d",
   "metadata": {},
   "source": [
    "#### 2.7. Вернуть наибольший элемент из произвольного списка"
   ]
  },
  {
   "cell_type": "code",
   "execution_count": 63,
   "id": "a9a0c263",
   "metadata": {},
   "outputs": [
    {
     "name": "stdout",
     "output_type": "stream",
     "text": [
      "Maximum is 2424\n"
     ]
    }
   ],
   "source": [
    "lst = [1, 3, 34, 2424, 235, 543]\n",
    "print(f'Maximum is {max(lst)}')"
   ]
  },
  {
   "cell_type": "markdown",
   "id": "e4227158",
   "metadata": {},
   "source": [
    "## 3. Строки и операции над ними"
   ]
  },
  {
   "cell_type": "markdown",
   "id": "4b35ffba",
   "metadata": {},
   "source": [
    "#### 3.1. Получив на вход строку нечетной длины, вернуть строку, состоящую из трех стредних символов этой строки."
   ]
  },
  {
   "cell_type": "code",
   "execution_count": 71,
   "id": "7d46fc37",
   "metadata": {},
   "outputs": [
    {
     "name": "stdout",
     "output_type": "stream",
     "text": [
      "cde\n"
     ]
    }
   ],
   "source": [
    "str = input(\"Type string\")\n",
    "if len(str) % 2 != 0:\n",
    "    length = len(str)\n",
    "    middle_index = length // 2\n",
    "    middle_chars = str[middle_index - 1:middle_index + 2]\n",
    "    print(middle_chars)"
   ]
  },
  {
   "cell_type": "markdown",
   "id": "92f1c30c",
   "metadata": {},
   "source": [
    "#### 3.2. Получив на вход 2 строки `s1` и `s2`, создать новую строку, добавив `s2` в середину `s1`."
   ]
  },
  {
   "cell_type": "code",
   "execution_count": 67,
   "id": "fa368156",
   "metadata": {},
   "outputs": [
    {
     "name": "stdout",
     "output_type": "stream",
     "text": [
      "ablkcd\n"
     ]
    }
   ],
   "source": [
    "def insertInStr(s1, s2):\n",
    "    midPoint = len(s1) // 2\n",
    "    return s1[:midPoint] + s2 + s1[midPoint:]\n",
    "print(insertInStr(\"abcd\", \"lk\"))"
   ]
  },
  {
   "cell_type": "markdown",
   "id": "fdfe7136",
   "metadata": {},
   "source": [
    "#### 3.3. Расположить строковые символы в произвольной строке таким образом, чтобы строчные буквы были первыми."
   ]
  },
  {
   "cell_type": "code",
   "execution_count": 80,
   "id": "6f274712",
   "metadata": {},
   "outputs": [
    {
     "name": "stdout",
     "output_type": "stream",
     "text": [
      "abcABC\n"
     ]
    }
   ],
   "source": [
    "def strPath(str):\n",
    "    leftstr = ''\n",
    "    rightstr = ''\n",
    "    for ch in str:\n",
    "        if ch.islower():\n",
    "            leftstr += ch\n",
    "        else:\n",
    "            rightstr += ch\n",
    "    return leftstr + rightstr\n",
    "\n",
    "print(strPath(\"AaBbCc\"))"
   ]
  },
  {
   "cell_type": "markdown",
   "id": "7238f24d",
   "metadata": {},
   "source": [
    "#### 3.4. Получив на вход строку, посчитать количество строчных и заглавных букв, цифр и специальных символов."
   ]
  },
  {
   "cell_type": "code",
   "execution_count": 75,
   "id": "a581f214",
   "metadata": {},
   "outputs": [
    {
     "name": "stdout",
     "output_type": "stream",
     "text": [
      "1 3 1 1\n"
     ]
    }
   ],
   "source": [
    "def countSomething(str):\n",
    "    d = {'SpecialCharacters': 0, 'UpperLetters': 0, \"LowerLetters\": 0, 'Digits': 0}\n",
    "    for i in str:\n",
    "        if i.isalpha():\n",
    "            if i.isupper():\n",
    "                d['UpperLetters'] += 1\n",
    "            else:\n",
    "                d['LowerLetters'] += 1\n",
    "        elif i.isdigit():\n",
    "            d['Digits'] += 1\n",
    "        else:\n",
    "            d['SpecialCharacters'] += 1\n",
    "    return d\n",
    "\n",
    "a = countSomething(\"aNc3!s\")\n",
    "print(a['UpperLetters'], a['LowerLetters'], a['SpecialCharacters'], a['Digits'])"
   ]
  },
  {
   "cell_type": "markdown",
   "id": "9791e5e7",
   "metadata": {},
   "source": [
    "#### 3.5. Найдите все вхождения слова \"Python\" в заданной строке, игнорируя регистр."
   ]
  },
  {
   "cell_type": "code",
   "execution_count": 111,
   "id": "77351b7e",
   "metadata": {},
   "outputs": [
    {
     "name": "stdout",
     "output_type": "stream",
     "text": [
      "python\n",
      "Python\n",
      "Python\n"
     ]
    }
   ],
   "source": [
    "def findAllSubstr(substr, str):\n",
    "    str = str.lower()\n",
    "    substr = substr.lower()\n",
    "    idx = []\n",
    "    for i in range(len(str)):\n",
    "        if str[i: i + len(substr)] == substr:\n",
    "            idx.append(i)\n",
    "    return idx\n",
    "\n",
    "str = \"pythonPythonPytonPyyyythonPythonppp\"\n",
    "substr = \"Python\"\n",
    "\n",
    "substr_len = len(substr)\n",
    "\n",
    "idx = findAllSubstr(substr, str)\n",
    "for i in idx:\n",
    "    print(str[i: i + substr_len])"
   ]
  },
  {
   "cell_type": "markdown",
   "id": "96f1aae1",
   "metadata": {},
   "source": [
    "#### 3.6. Получив на вход строку, состоящую из букв и цифр, вернуть сумму и среднее значение чисел, которые повляются в ней, игнорируя все остальные символы."
   ]
  },
  {
   "cell_type": "code",
   "execution_count": 84,
   "id": "44f2df97",
   "metadata": {},
   "outputs": [
    {
     "name": "stdout",
     "output_type": "stream",
     "text": [
      "(157, 78.5)\n"
     ]
    }
   ],
   "source": [
    "def countSomething(str):\n",
    "    sum = 0\n",
    "    count = 0\n",
    "    tmp = \"0\"\n",
    "    for i in str:\n",
    "        if i.isdigit():\n",
    "            tmp += i\n",
    "        else:\n",
    "            sum += int(tmp)\n",
    "            count += 1\n",
    "            tmp = \"0\"\n",
    "    sum += int(tmp)  \n",
    "    return sum, sum /count\n",
    "\n",
    "print(countSomething(\"b123n34\"))"
   ]
  },
  {
   "cell_type": "markdown",
   "id": "7d5e0a98",
   "metadata": {},
   "source": [
    "#### 3.7. Получив на вход произвольную строку, подсчитать количество вхождений всех символов в этой строке."
   ]
  },
  {
   "cell_type": "code",
   "execution_count": 85,
   "id": "b5ec33cf",
   "metadata": {},
   "outputs": [
    {
     "data": {
      "text/plain": [
       "{'a': 5,\n",
       " 'd': 2,\n",
       " 'c': 3,\n",
       " 'j': 1,\n",
       " 'k': 2,\n",
       " 'b': 1,\n",
       " 'f': 1,\n",
       " 'B': 1,\n",
       " 'W': 1,\n",
       " '#': 1}"
      ]
     },
     "execution_count": 85,
     "metadata": {},
     "output_type": "execute_result"
    }
   ],
   "source": [
    "def countSymbols(str):\n",
    "    alphabet = {}\n",
    "    for i in str:\n",
    "        alphabet[i] = alphabet.get(i, 0) + 1\n",
    "    return alphabet\n",
    "countSymbols(\"adcjkbcdkcfaaaaBW#\")\n"
   ]
  }
 ],
 "metadata": {
  "kernelspec": {
   "display_name": "Python 3 (ipykernel)",
   "language": "python",
   "name": "python3"
  },
  "language_info": {
   "codemirror_mode": {
    "name": "ipython",
    "version": 3
   },
   "file_extension": ".py",
   "mimetype": "text/x-python",
   "name": "python",
   "nbconvert_exporter": "python",
   "pygments_lexer": "ipython3",
   "version": "3.11.5"
  }
 },
 "nbformat": 4,
 "nbformat_minor": 5
}
